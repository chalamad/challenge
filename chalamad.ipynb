{
 "cells": [
  {
   "cell_type": "markdown",
   "metadata": {
    "collapsed": true
   },
   "source": [
    "# First Exercise"
   ]
  },
  {
   "cell_type": "markdown",
   "metadata": {},
   "source": [
    "Pandas seems mandatory to deal with such huge datasets. Therefore we are going to use it. "
   ]
  },
  {
   "cell_type": "code",
   "execution_count": 9,
   "metadata": {
    "collapsed": false
   },
   "outputs": [
    {
     "name": "stdout",
     "output_type": "stream",
     "text": [
      "bookings.csv has 10000011 rows, header included\n",
      "searches.csv has 20390199 rows, header included\n"
     ]
    }
   ],
   "source": [
    "import sys\n",
    "from pandas import read_csv\n",
    "from GeoBases import GeoBase\n",
    "\n",
    "bookings_location = r'/Volumes/RemiSDCard/Amadeus/bookings.csv'\n",
    "\n",
    "searches_location = r'/Volumes/RemiSDCard/Amadeus/searches.csv'\n",
    "\n",
    "def csv_line_counter(filename):\n",
    "    with open(filename) as f:\n",
    "        for i,l in enumerate(f):\n",
    "            pass\n",
    "        f.close()\n",
    "    return i + 1\n",
    "\n",
    "row_count_bookings = csv_line_counter(bookings_location)\n",
    "row_count_searches = csv_line_counter(searches_location)\n",
    "\n",
    "print \"bookings.csv has %s rows, header included\" % row_count_bookings\n",
    "print \"searches.csv has %s rows, header included\" % row_count_searches"
   ]
  },
  {
   "cell_type": "markdown",
   "metadata": {},
   "source": [
    "Noticed that the function is considering the header as a row. "
   ]
  },
  {
   "cell_type": "markdown",
   "metadata": {},
   "source": [
    "# Second Exercise"
   ]
  },
  {
   "cell_type": "markdown",
   "metadata": {},
   "source": [
    "The goal of this exercise if to find the top 10 arrival airports in the world in 2013, using the bookings file. Since we only need the columns arr_port and pax, thus we are going to use pandas useful capaibilities to only import the two interesting columns and save space and time. We will then perform an SQL-like inner join to get the litteral names of the airports iata code.\n",
    "\n",
    "We will use GeoBases https://github.com/opentraveldata/geobases to get the litteral names of the airports concerned."
   ]
  },
  {
   "cell_type": "code",
   "execution_count": 10,
   "metadata": {
    "collapsed": false
   },
   "outputs": [
    {
     "data": {
      "text/html": [
       "<div>\n",
       "<table border=\"1\" class=\"dataframe\">\n",
       "  <thead>\n",
       "    <tr style=\"text-align: right;\">\n",
       "      <th></th>\n",
       "      <th>number_of_passengers</th>\n",
       "      <th>airport_litteral_name</th>\n",
       "    </tr>\n",
       "    <tr>\n",
       "      <th>arr_port</th>\n",
       "      <th></th>\n",
       "      <th></th>\n",
       "    </tr>\n",
       "  </thead>\n",
       "  <tbody>\n",
       "    <tr>\n",
       "      <th>LHR</th>\n",
       "      <td>88809</td>\n",
       "      <td>London Heathrow Airport</td>\n",
       "    </tr>\n",
       "    <tr>\n",
       "      <th>MCO</th>\n",
       "      <td>70930</td>\n",
       "      <td>Orlando International Airport</td>\n",
       "    </tr>\n",
       "    <tr>\n",
       "      <th>LAX</th>\n",
       "      <td>70530</td>\n",
       "      <td>Los Angeles International Airport</td>\n",
       "    </tr>\n",
       "    <tr>\n",
       "      <th>LAS</th>\n",
       "      <td>69630</td>\n",
       "      <td>Mc Carran International Airport</td>\n",
       "    </tr>\n",
       "    <tr>\n",
       "      <th>JFK</th>\n",
       "      <td>66270</td>\n",
       "      <td>John F Kennedy International Airport</td>\n",
       "    </tr>\n",
       "    <tr>\n",
       "      <th>CDG</th>\n",
       "      <td>64490</td>\n",
       "      <td>Paris - Charles-de-Gaulle</td>\n",
       "    </tr>\n",
       "    <tr>\n",
       "      <th>BKK</th>\n",
       "      <td>59460</td>\n",
       "      <td>Suvarnabhumi</td>\n",
       "    </tr>\n",
       "    <tr>\n",
       "      <th>MIA</th>\n",
       "      <td>58150</td>\n",
       "      <td>Miami International Airport</td>\n",
       "    </tr>\n",
       "    <tr>\n",
       "      <th>SFO</th>\n",
       "      <td>58000</td>\n",
       "      <td>San Francisco International Airport</td>\n",
       "    </tr>\n",
       "    <tr>\n",
       "      <th>DXB</th>\n",
       "      <td>55590</td>\n",
       "      <td>Dubai International Airport</td>\n",
       "    </tr>\n",
       "  </tbody>\n",
       "</table>\n",
       "</div>"
      ],
      "text/plain": [
       "          number_of_passengers                 airport_litteral_name\n",
       "arr_port                                                            \n",
       "LHR                      88809               London Heathrow Airport\n",
       "MCO                      70930         Orlando International Airport\n",
       "LAX                      70530     Los Angeles International Airport\n",
       "LAS                      69630       Mc Carran International Airport\n",
       "JFK                      66270  John F Kennedy International Airport\n",
       "CDG                      64490             Paris - Charles-de-Gaulle\n",
       "BKK                      59460                          Suvarnabhumi\n",
       "MIA                      58150           Miami International Airport\n",
       "SFO                      58000   San Francisco International Airport\n",
       "DXB                      55590           Dubai International Airport"
      ]
     },
     "execution_count": 10,
     "metadata": {},
     "output_type": "execute_result"
    }
   ],
   "source": [
    "bookings_df = read_csv(bookings_location,  error_bad_lines = False, sep = '^', usecols = ['arr_port','pax'])\n",
    "\n",
    "top10_df = bookings_df.groupby(['arr_port']).sum().sort_values(['pax'], ascending = False).head(10)\n",
    "top10_df.columns = ['number_of_passengers']\n",
    "\n",
    "geo_o = GeoBase(data='ori_por', verbose=False)\n",
    "\n",
    "top10_df['airport_litteral_name'] = top10_df.index.map(lambda iata: geo_o.get(iata.strip(),'name'))\n",
    "top10_df"
   ]
  },
  {
   "cell_type": "markdown",
   "metadata": {},
   "source": [
    "# Third Exercise"
   ]
  },
  {
   "cell_type": "markdown",
   "metadata": {},
   "source": [
    "The aim of this exercise is to plot the monthly number of searches for flights arriving at Málaga, Madrid or Barcelona.\n",
    "\n",
    "We will thus use pandas visualization tool http://pandas.pydata.org/pandas-docs/stable/visualization.html"
   ]
  }
 ],
 "metadata": {
  "kernelspec": {
   "display_name": "Python 2",
   "language": "python",
   "name": "python2"
  },
  "language_info": {
   "codemirror_mode": {
    "name": "ipython",
    "version": 2
   },
   "file_extension": ".py",
   "mimetype": "text/x-python",
   "name": "python",
   "nbconvert_exporter": "python",
   "pygments_lexer": "ipython2",
   "version": "2.7.11"
  }
 },
 "nbformat": 4,
 "nbformat_minor": 0
}
