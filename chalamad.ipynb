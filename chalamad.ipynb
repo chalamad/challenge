{
 "cells": [
  {
   "cell_type": "markdown",
   "metadata": {
    "collapsed": true
   },
   "source": [
    "# First Exercise"
   ]
  },
  {
   "cell_type": "markdown",
   "metadata": {},
   "source": [
    "Pandas seems mandatory to deal with such huge datasets. Therefore we are going to use it. Once loaded with read_csv we know the number of rows with the details of the dataframe in the Variable Explorer but once's can also calculate the number of rows like this  "
   ]
  },
  {
   "cell_type": "code",
   "execution_count": null,
   "metadata": {
    "collapsed": true
   },
   "outputs": [],
   "source": [
    "from pandas import read_csv\n",
    "from GeoBases import GeoBase\n",
    "\n",
    "bookings_location = r'/Volumes/RemiSDCard/Amadeus/bookings.csv'\n",
    "\n",
    "searches_location = r'/Volumes/RemiSDCard/Amadeus/searches.csv'\n",
    "\n",
    "def csv_line_counter(filename):\n",
    "    with open(filename) as f:\n",
    "        for i,l in enumerate(f):\n",
    "            pass\n",
    "        f.close()\n",
    "    return i + 1\n",
    "\n",
    "row_count_bookings = csv_line_counter(bookings_location)\n",
    "row_count_searches = csv_line_counter(searches_location)\n",
    "\n",
    "print \"bookings.csv has %s rows, header included\" % row_count_bookings\n",
    "print \"searches.csv has %s rows, header included\" % row_count_searches"
   ]
  },
  {
   "cell_type": "markdown",
   "metadata": {},
   "source": [
    "bookings.csv has 10000011 rows, header included "
   ]
  },
  {
   "cell_type": "markdown",
   "metadata": {},
   "source": [
    "searches.csv has 20390199 rows, header included"
   ]
  },
  {
   "cell_type": "markdown",
   "metadata": {},
   "source": [
    "Noticed that the function is considering the header as a row. "
   ]
  },
  {
   "cell_type": "markdown",
   "metadata": {},
   "source": [
    "# Second Exercise"
   ]
  },
  {
   "cell_type": "markdown",
   "metadata": {},
   "source": [
    "The goal of this exercise if to find the top 10 arrival airports in the world in 2013, using the bookings file. Since we only need the columns arr_port and pax, thus we are going to use pandas useful capaibilities to only import the two interesting columns and save space and time. \n",
    "\n",
    "We will use GeoBases https://github.com/opentraveldata/geobases to get the name of the airports concerned."
   ]
  },
  {
   "cell_type": "code",
   "execution_count": null,
   "metadata": {
    "collapsed": true
   },
   "outputs": [],
   "source": []
  }
 ],
 "metadata": {
  "kernelspec": {
   "display_name": "Python 2",
   "language": "python",
   "name": "python2"
  },
  "language_info": {
   "codemirror_mode": {
    "name": "ipython",
    "version": 2
   },
   "file_extension": ".py",
   "mimetype": "text/x-python",
   "name": "python",
   "nbconvert_exporter": "python",
   "pygments_lexer": "ipython2",
   "version": "2.7.11"
  }
 },
 "nbformat": 4,
 "nbformat_minor": 0
}
