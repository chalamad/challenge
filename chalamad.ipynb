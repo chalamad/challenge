{
 "cells": [
  {
   "cell_type": "markdown",
   "metadata": {
    "collapsed": true
   },
   "source": [
    "# First Exercise"
   ]
  },
  {
   "cell_type": "markdown",
   "metadata": {},
   "source": [
    "Pandas seems mandatory to deal with such huge datasets. Therefore we are going to use it. "
   ]
  },
  {
   "cell_type": "code",
   "execution_count": 11,
   "metadata": {
    "collapsed": false
   },
   "outputs": [
    {
     "name": "stdout",
     "output_type": "stream",
     "text": [
      "bookings.csv has 10000011 rows, header included\n",
      "searches.csv has 20390199 rows, header included\n"
     ]
    }
   ],
   "source": [
    "%matplotlib inline\n",
    "\n",
    "import sys\n",
    "import pandas as pd\n",
    "from pandas import read_csv\n",
    "from GeoBases import GeoBase\n",
    "import matplotlib.pyplot as plt\n",
    "import matplotlib \n",
    "matplotlib.style.use('ggplot')\n",
    "\n",
    "bookings_location = r'/Volumes/RemiSDCard/Amadeus/bookings.csv'\n",
    "\n",
    "searches_location = r'/Volumes/RemiSDCard/Amadeus/searches.csv'\n",
    "\n",
    "def csv_line_counter(filename):\n",
    "    with open(filename) as f:\n",
    "        for i,l in enumerate(f):\n",
    "            pass\n",
    "        f.close()\n",
    "    return i + 1\n",
    "\n",
    "row_count_bookings = csv_line_counter(bookings_location)\n",
    "row_count_searches = csv_line_counter(searches_location)\n",
    "\n",
    "print \"bookings.csv has %s rows, header included\" % row_count_bookings\n",
    "print \"searches.csv has %s rows, header included\" % row_count_searches"
   ]
  },
  {
   "cell_type": "markdown",
   "metadata": {},
   "source": [
    "Noticed that the function is considering the header as a row. "
   ]
  },
  {
   "cell_type": "markdown",
   "metadata": {},
   "source": [
    "# Second Exercise"
   ]
  },
  {
   "cell_type": "markdown",
   "metadata": {},
   "source": [
    "The goal of this exercise if to find the top 10 arrival airports in the world in 2013, using the bookings file. Since we only need the columns arr_port and pax, thus we are going to use pandas useful capaibilities to only import the two interesting columns and save space and time. We will then perform an SQL-like inner join to get the litteral names of the airports iata code.\n",
    "\n",
    "We will use GeoBases https://github.com/opentraveldata/geobases to get the litteral names of the airports concerned."
   ]
  },
  {
   "cell_type": "code",
   "execution_count": 5,
   "metadata": {
    "collapsed": false
   },
   "outputs": [
    {
     "data": {
      "text/html": [
       "<div>\n",
       "<table border=\"1\" class=\"dataframe\">\n",
       "  <thead>\n",
       "    <tr style=\"text-align: right;\">\n",
       "      <th></th>\n",
       "      <th>number_of_passengers</th>\n",
       "      <th>airport_litteral_name</th>\n",
       "    </tr>\n",
       "    <tr>\n",
       "      <th>arr_port</th>\n",
       "      <th></th>\n",
       "      <th></th>\n",
       "    </tr>\n",
       "  </thead>\n",
       "  <tbody>\n",
       "    <tr>\n",
       "      <th>LHR</th>\n",
       "      <td>88809</td>\n",
       "      <td>London Heathrow Airport</td>\n",
       "    </tr>\n",
       "    <tr>\n",
       "      <th>MCO</th>\n",
       "      <td>70930</td>\n",
       "      <td>Orlando International Airport</td>\n",
       "    </tr>\n",
       "    <tr>\n",
       "      <th>LAX</th>\n",
       "      <td>70530</td>\n",
       "      <td>Los Angeles International Airport</td>\n",
       "    </tr>\n",
       "    <tr>\n",
       "      <th>LAS</th>\n",
       "      <td>69630</td>\n",
       "      <td>Mc Carran International Airport</td>\n",
       "    </tr>\n",
       "    <tr>\n",
       "      <th>JFK</th>\n",
       "      <td>66270</td>\n",
       "      <td>John F Kennedy International Airport</td>\n",
       "    </tr>\n",
       "    <tr>\n",
       "      <th>CDG</th>\n",
       "      <td>64490</td>\n",
       "      <td>Paris - Charles-de-Gaulle</td>\n",
       "    </tr>\n",
       "    <tr>\n",
       "      <th>BKK</th>\n",
       "      <td>59460</td>\n",
       "      <td>Suvarnabhumi</td>\n",
       "    </tr>\n",
       "    <tr>\n",
       "      <th>MIA</th>\n",
       "      <td>58150</td>\n",
       "      <td>Miami International Airport</td>\n",
       "    </tr>\n",
       "    <tr>\n",
       "      <th>SFO</th>\n",
       "      <td>58000</td>\n",
       "      <td>San Francisco International Airport</td>\n",
       "    </tr>\n",
       "    <tr>\n",
       "      <th>DXB</th>\n",
       "      <td>55590</td>\n",
       "      <td>Dubai International Airport</td>\n",
       "    </tr>\n",
       "  </tbody>\n",
       "</table>\n",
       "</div>"
      ],
      "text/plain": [
       "          number_of_passengers                 airport_litteral_name\n",
       "arr_port                                                            \n",
       "LHR                      88809               London Heathrow Airport\n",
       "MCO                      70930         Orlando International Airport\n",
       "LAX                      70530     Los Angeles International Airport\n",
       "LAS                      69630       Mc Carran International Airport\n",
       "JFK                      66270  John F Kennedy International Airport\n",
       "CDG                      64490             Paris - Charles-de-Gaulle\n",
       "BKK                      59460                          Suvarnabhumi\n",
       "MIA                      58150           Miami International Airport\n",
       "SFO                      58000   San Francisco International Airport\n",
       "DXB                      55590           Dubai International Airport"
      ]
     },
     "execution_count": 5,
     "metadata": {},
     "output_type": "execute_result"
    }
   ],
   "source": [
    "bookings_df = read_csv(bookings_location,  error_bad_lines = False, sep = '^', usecols = ['arr_port','pax'])\n",
    "\n",
    "top10_df = bookings_df.groupby(['arr_port']).sum().sort_values(['pax'], ascending = False).head(10)\n",
    "top10_df.columns = ['number_of_passengers']\n",
    "\n",
    "geo_o = GeoBase(data='ori_por', verbose=False)\n",
    "\n",
    "top10_df['airport_litteral_name'] = top10_df.index.map(lambda iata: geo_o.get(iata.strip(),'name'))\n",
    "top10_df"
   ]
  },
  {
   "cell_type": "markdown",
   "metadata": {},
   "source": [
    "# Third Exercise"
   ]
  },
  {
   "cell_type": "markdown",
   "metadata": {},
   "source": [
    "The aim of this exercise is to plot the monthly number of searches for flights arriving at Málaga, Madrid and Barcelona.\n",
    "\n",
    "We will thus use pandas visualization tool http://pandas.pydata.org/pandas-docs/stable/visualization.html\n",
    "Since the Destination column contains only iata codes, we have to use geobases again to find the iata code for Malaga, Madrid and Barcelona."
   ]
  },
  {
   "cell_type": "code",
   "execution_count": 18,
   "metadata": {
    "collapsed": false
   },
   "outputs": [
    {
     "data": {
      "text/html": [
       "<div>\n",
       "<table border=\"1\" class=\"dataframe\">\n",
       "  <thead>\n",
       "    <tr style=\"text-align: right;\">\n",
       "      <th></th>\n",
       "      <th>Destination</th>\n",
       "    </tr>\n",
       "  </thead>\n",
       "  <tbody>\n",
       "    <tr>\n",
       "      <th>0</th>\n",
       "      <td>AGP</td>\n",
       "    </tr>\n",
       "    <tr>\n",
       "      <th>1</th>\n",
       "      <td>MAD</td>\n",
       "    </tr>\n",
       "    <tr>\n",
       "      <th>2</th>\n",
       "      <td>BCN</td>\n",
       "    </tr>\n",
       "  </tbody>\n",
       "</table>\n",
       "</div>"
      ],
      "text/plain": [
       "  Destination\n",
       "0         AGP\n",
       "1         MAD\n",
       "2         BCN"
      ]
     },
     "execution_count": 18,
     "metadata": {},
     "output_type": "execute_result"
    }
   ],
   "source": [
    "searches_df = read_csv(searches_location,  error_bad_lines = False, sep = '^', usecols = ['Date','Destination'])\n",
    "\n",
    "geo_a = GeoBase(data='airports', verbose=False)\n",
    "\n",
    "# Geobases function that gets us iata_code for each airport\n",
    "malaga = geo_a.fuzzyFind('malaga', 'name')[0]\n",
    "madrid = geo_a.fuzzyFind('madrid', 'name')[0]\n",
    "barcelone = geo_a.fuzzyFind('barcelona', 'name')[0]\n",
    "\n",
    "airports = pd.DataFrame([malaga[1],madrid[1],barcelone[1]])\n",
    "airports.columns = ['Destination']\n",
    "airports\n"
   ]
  },
  {
   "cell_type": "code",
   "execution_count": 20,
   "metadata": {
    "collapsed": false
   },
   "outputs": [
    {
     "data": {
      "image/png": "[encoded data removed]",
      "text/plain": [
       "<matplotlib.figure.Figure at 0x114ec3990>"
      ]
     },
     "metadata": {},
     "output_type": "display_data"
    }
   ],
   "source": [
    "airports_concerned = pd.merge(searches_df, airports, how='inner' , on='Destination')\n",
    "airports_concerned['month'] = airports_concerned['Date'].map(lambda date: pd.datetime.strptime(date, '%Y-%m-%d').month)\n",
    "\n",
    "for airport, rest in airports_concerned.groupby('Destination'):\n",
    "    graph = rest.groupby('month').size()\n",
    "    graph.index = ['J', 'F', 'M', 'A', 'M', 'J', 'J', 'A', 'S', 'O', 'N', 'D']\n",
    "    graph.plot(kind='line', x='month', legend='Number of searches', label=airport, \n",
    "               title='Number of searches per month for different destinations')"
   ]
  },
  {
   "cell_type": "markdown",
   "metadata": {},
   "source": [
    "Before plotting this graph, I thought that these curves were forming a cycle. Meaning that at the end of December , the curves should be approximatively at the same values that at the beginning of January. In this graph this is not the case, we observe a general decreasing tendency. We can maybe attribute that tendency to the general climat of crisis at the time in Europe. In 2013, in Spain, there was also a pic in the unemployment rate of the country.\n",
    "\n",
    "Source for the unemployment rate : http://www.tradingeconomics.com/spain/unemployment-rate"
   ]
  },
  {
   "cell_type": "markdown",
   "metadata": {},
   "source": [
    "# Bonus Exercise One"
   ]
  },
  {
   "cell_type": "markdown",
   "metadata": {},
   "source": [
    "For every search in the searches file, we have to find out whether the search ended up in a booking or not."
   ]
  }
 ],
 "metadata": {
  "kernelspec": {
   "display_name": "Python 2",
   "language": "python",
   "name": "python2"
  },
  "language_info": {
   "codemirror_mode": {
    "name": "ipython",
    "version": 2
   },
   "file_extension": ".py",
   "mimetype": "text/x-python",
   "name": "python",
   "nbconvert_exporter": "python",
   "pygments_lexer": "ipython2",
   "version": "2.7.11"
  }
 },
 "nbformat": 4,
 "nbformat_minor": 0
}
